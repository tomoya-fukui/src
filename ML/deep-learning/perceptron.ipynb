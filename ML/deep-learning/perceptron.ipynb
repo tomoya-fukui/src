{
 "cells": [
  {
   "attachments": {},
   "cell_type": "markdown",
   "metadata": {},
   "source": [
    "## パーセプトロン  \n",
    "### 複数の信号を入力として受け取り、1つの信号を出力する  \n",
    "### ニューラルネットワークの起源となるアルゴリズム  \n",
    "### 単層パーセプトロン"
   ]
  },
  {
   "cell_type": "code",
   "execution_count": 3,
   "metadata": {},
   "outputs": [],
   "source": [
    "# 必要パッケージのインポート\n",
    "import numpy as np"
   ]
  },
  {
   "cell_type": "code",
   "execution_count": 4,
   "metadata": {},
   "outputs": [],
   "source": [
    "# ANDゲートの実装\n",
    "def AND(x):\n",
    "    # 重み\n",
    "    w = np.array([0.5, 0.5])\n",
    "    # 閾値\n",
    "    theta = 0.7\n",
    "    tmp = np.dot(x, w)\n",
    "    if tmp <= theta:\n",
    "        return 0\n",
    "    # 閾値を超えたら発火\n",
    "    elif tmp > theta:\n",
    "        return 1"
   ]
  },
  {
   "cell_type": "code",
   "execution_count": 5,
   "metadata": {},
   "outputs": [
    {
     "data": {
      "text/plain": [
       "0"
      ]
     },
     "execution_count": 5,
     "metadata": {},
     "output_type": "execute_result"
    }
   ],
   "source": [
    "# 入力\n",
    "x = np.array([0, 0])\n",
    "AND(x)"
   ]
  },
  {
   "cell_type": "code",
   "execution_count": 6,
   "metadata": {},
   "outputs": [
    {
     "data": {
      "text/plain": [
       "1"
      ]
     },
     "execution_count": 6,
     "metadata": {},
     "output_type": "execute_result"
    }
   ],
   "source": [
    "x = np.array([1, 1])\n",
    "AND(x)"
   ]
  },
  {
   "attachments": {},
   "cell_type": "markdown",
   "metadata": {},
   "source": [
    "### 今後のことを考え変形"
   ]
  },
  {
   "cell_type": "code",
   "execution_count": 7,
   "metadata": {},
   "outputs": [],
   "source": [
    "# ANDゲートの実装\n",
    "def AND(x):\n",
    "    # 重み\n",
    "    w = np.array([0.5, 0.5])\n",
    "    # バイアス\n",
    "    b = -0.7\n",
    "    tmp = np.dot(x, w) + b\n",
    "    if tmp <= 0:\n",
    "        return 0\n",
    "    # 0を超えたら発火\n",
    "    elif tmp > 0:\n",
    "        return 1"
   ]
  },
  {
   "cell_type": "code",
   "execution_count": 8,
   "metadata": {},
   "outputs": [
    {
     "data": {
      "text/plain": [
       "1"
      ]
     },
     "execution_count": 8,
     "metadata": {},
     "output_type": "execute_result"
    }
   ],
   "source": [
    "x = np.array([1, 1])\n",
    "AND(x)"
   ]
  },
  {
   "cell_type": "code",
   "execution_count": 9,
   "metadata": {},
   "outputs": [],
   "source": [
    "# NANDゲートの実装\n",
    "def NAND(x):\n",
    "    # 重み\n",
    "    w = np.array([-0.5, -0.5])\n",
    "    # バイアス\n",
    "    b = 0.7\n",
    "    tmp = np.dot(x, w) + b\n",
    "    if tmp <= 0:\n",
    "        return 0\n",
    "    # 0を超えたら発火\n",
    "    elif tmp > 0:\n",
    "        return 1"
   ]
  },
  {
   "cell_type": "code",
   "execution_count": 10,
   "metadata": {},
   "outputs": [],
   "source": [
    "# ORゲートの実装\n",
    "def OR(x):\n",
    "    # 重み\n",
    "    w = np.array([0.5, 0.5])\n",
    "    # バイアス\n",
    "    b = -0.2\n",
    "    tmp = np.dot(x, w) + b\n",
    "    if tmp <= 0:\n",
    "        return 0\n",
    "    # 0を超えたら発火\n",
    "    elif tmp > 0:\n",
    "        return 1"
   ]
  },
  {
   "attachments": {},
   "cell_type": "markdown",
   "metadata": {},
   "source": [
    "### 多層パーセプトロン  \n",
    "#### 層を重ね合わせることにより非線形領域を表現"
   ]
  },
  {
   "cell_type": "code",
   "execution_count": 16,
   "metadata": {},
   "outputs": [],
   "source": [
    "# XORゲートの実装\n",
    "def XOR(x):\n",
    "    # 中間層\n",
    "    s1_1 = NAND(x)\n",
    "    s1_2 = OR(x)\n",
    "    # 出力層\n",
    "    y = AND(np.array([s1_1, s1_2]))\n",
    "    return y"
   ]
  },
  {
   "cell_type": "code",
   "execution_count": 18,
   "metadata": {},
   "outputs": [
    {
     "data": {
      "text/plain": [
       "0"
      ]
     },
     "execution_count": 18,
     "metadata": {},
     "output_type": "execute_result"
    }
   ],
   "source": [
    "# 入力\n",
    "x = np.array([0, 0])\n",
    "XOR(x)"
   ]
  },
  {
   "cell_type": "code",
   "execution_count": 19,
   "metadata": {},
   "outputs": [
    {
     "data": {
      "text/plain": [
       "1"
      ]
     },
     "execution_count": 19,
     "metadata": {},
     "output_type": "execute_result"
    }
   ],
   "source": [
    "x = np.array([1, 0])\n",
    "XOR(x)"
   ]
  },
  {
   "attachments": {},
   "cell_type": "markdown",
   "metadata": {},
   "source": [
    "### まとめ  \n",
    "- パーセプトロンは入出力を備えたアルゴリズム\n",
    "- パーセプトロンでは、「重み」と「バイアス」をパラメータとして手動で設定する\n",
    "- 単層のパーセプトロンは線形領域だけしか表現できないのに対して、多層のパーセプトロンは非線形領域を表現する"
   ]
  }
 ],
 "metadata": {
  "kernelspec": {
   "display_name": "Python 3",
   "language": "python",
   "name": "python3"
  },
  "language_info": {
   "codemirror_mode": {
    "name": "ipython",
    "version": 3
   },
   "file_extension": ".py",
   "mimetype": "text/x-python",
   "name": "python",
   "nbconvert_exporter": "python",
   "pygments_lexer": "ipython3",
   "version": "3.8.10"
  },
  "orig_nbformat": 4
 },
 "nbformat": 4,
 "nbformat_minor": 2
}
