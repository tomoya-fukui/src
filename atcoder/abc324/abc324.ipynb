{
 "cells": [
  {
   "cell_type": "code",
   "execution_count": null,
   "metadata": {},
   "outputs": [],
   "source": [
    "N = int(input())\n",
    "A = list(map(int, input().split()))\n",
    "\n",
    "ans = \"Yes\"\n",
    "for i in range(1, N):\n",
    "    if A[i-1] != A[i]:\n",
    "        ans = \"No\"\n",
    "        break\n",
    "print(ans)"
   ]
  },
  {
   "cell_type": "code",
   "execution_count": 1,
   "metadata": {},
   "outputs": [
    {
     "data": {
      "text/plain": [
       "5e+17"
      ]
     },
     "execution_count": 1,
     "metadata": {},
     "output_type": "execute_result"
    }
   ],
   "source": [
    "# テスト\n",
    "10**18/2"
   ]
  },
  {
   "cell_type": "code",
   "execution_count": 2,
   "metadata": {},
   "outputs": [
    {
     "data": {
      "text/plain": [
       "3.333333333333333e+17"
      ]
     },
     "execution_count": 2,
     "metadata": {},
     "output_type": "execute_result"
    }
   ],
   "source": [
    "10**18/3"
   ]
  },
  {
   "cell_type": "code",
   "execution_count": null,
   "metadata": {},
   "outputs": [],
   "source": [
    "import math\n",
    "N = int(input())\n",
    "\n",
    "ans = \"No\"\n",
    "i_range = int(math.log2(N))+1\n",
    "j_range = int(math.log(N, 3))+1\n",
    "for i in range(i_range):\n",
    "    for j in range(j_range):\n",
    "        if (2**i)*(3**j) == N:\n",
    "            ans = \"Yes\"\n",
    "            break\n",
    "print(ans)"
   ]
  },
  {
   "cell_type": "code",
   "execution_count": null,
   "metadata": {},
   "outputs": [],
   "source": [
    "N, T = input().split()\n",
    "N = int(N)\n",
    "S = [None for _ in range(N)]\n",
    "\n",
    "result = []\n",
    "len_T = len(T)\n",
    "for i in range(N):\n",
    "    S[i] = input()\n",
    "    if S[i] == T:\n",
    "        result.append(i+1)\n",
    "    elif len(S[i]) == len(T)-1:\n",
    "        for start in range(len_T):\n",
    "            if T[:start] + T[start+1:] == S[i]:\n",
    "                result.append(i+1)\n",
    "                break\n",
    "    elif len(S[i]) == len(T)+1:\n",
    "        for start in range(len(S[i])):\n",
    "            if S[i][:start] + S[i][start+1:] == T:\n",
    "                result.append(i+1)\n",
    "                break\n",
    "    elif len(S[i]) == len(T):\n",
    "        diff = 0\n",
    "        for j in range(len_T):\n",
    "            if S[i][j] != T[j]:\n",
    "                diff += 1\n",
    "                if diff > 1:\n",
    "                    break\n",
    "            if j == len_T-1:\n",
    "                result.append(i+1)\n",
    "\n",
    "print(len(result))\n",
    "if (len(result)) > 0:\n",
    "    print(*result)"
   ]
  }
 ],
 "metadata": {
  "kernelspec": {
   "display_name": "venv",
   "language": "python",
   "name": "python3"
  },
  "language_info": {
   "codemirror_mode": {
    "name": "ipython",
    "version": 3
   },
   "file_extension": ".py",
   "mimetype": "text/x-python",
   "name": "python",
   "nbconvert_exporter": "python",
   "pygments_lexer": "ipython3",
   "version": "3.8.10"
  }
 },
 "nbformat": 4,
 "nbformat_minor": 2
}
