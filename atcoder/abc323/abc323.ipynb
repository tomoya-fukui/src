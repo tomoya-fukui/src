{
 "cells": [
  {
   "cell_type": "code",
   "execution_count": 5,
   "metadata": {},
   "outputs": [
    {
     "name": "stdout",
     "output_type": "stream",
     "text": [
      "No\n"
     ]
    }
   ],
   "source": [
    "S = input()\n",
    "ans = \"Yes\"\n",
    "for i in range(1, 16, 2):\n",
    "    if S[i] == \"1\":\n",
    "        ans = \"No\"\n",
    "        break\n",
    "print(ans)"
   ]
  },
  {
   "cell_type": "code",
   "execution_count": 2,
   "metadata": {},
   "outputs": [
    {
     "name": "stdout",
     "output_type": "stream",
     "text": [
      "2 ['2']\n",
      "1 ['2', '1']\n",
      "2 1\n"
     ]
    }
   ],
   "source": [
    "N = int(input())\n",
    "S = [None for i in range(N)]\n",
    "for i in range(N):\n",
    "    S[i] = input()\n",
    "\n",
    "# マルの数を数える\n",
    "result = [0 for i in range(N)]\n",
    "for i in range(N):\n",
    "    for d in S[i]:\n",
    "        if d == \"o\":\n",
    "            result[i] += 1\n",
    "\n",
    "ans = []\n",
    "for j in range(N, -1, -1):\n",
    "    ans += [str(i+1) for i, x in enumerate(result) if x == j]\n",
    "    #print(j, ans)\n",
    "    \n",
    "print(\" \".join(ans))"
   ]
  },
  {
   "cell_type": "code",
   "execution_count": 3,
   "metadata": {},
   "outputs": [
    {
     "name": "stdout",
     "output_type": "stream",
     "text": [
      "[0, 1, 2]\n"
     ]
    }
   ],
   "source": [
    "print(result)"
   ]
  },
  {
   "cell_type": "code",
   "execution_count": 15,
   "metadata": {},
   "outputs": [],
   "source": [
    "N, M = 3, 4\n",
    "A = [1000, 500, 700, 2000]\n",
    "S = [\"xxxo\",\n",
    "\"ooxx\",\n",
    "\"oxox\"]\n"
   ]
  },
  {
   "cell_type": "code",
   "execution_count": 18,
   "metadata": {},
   "outputs": [
    {
     "name": "stdout",
     "output_type": "stream",
     "text": [
      "2500 []\n",
      "2000 [3]\n",
      "1500 [3]\n",
      "1000 [3, 0]\n",
      "500 [3, 0, 1]\n",
      "0\n",
      "1\n",
      "1\n"
     ]
    }
   ],
   "source": [
    "\"\"\"\n",
    "N, M = map(int, input().split())\n",
    "A = list(map(int, input().split()))\n",
    "S = [None for i in range(N)]\n",
    "for i in range(N):\n",
    "    S[i] = input()\n",
    "\"\"\"\n",
    "\n",
    "# 合計点数の計算\n",
    "total = [i+1 for i in range(N)]\n",
    "for i in range(N):\n",
    "    for j in range(M):\n",
    "        if S[i][j] == \"o\":\n",
    "            total[i] += A[j]\n",
    "\n",
    "# 配点の大きい問題のインデックス\n",
    "A_sort_index = []\n",
    "for score in range(2500, 499, -100):\n",
    "    A_sort_index += [i for i, x in enumerate(A) if x == score]\n",
    "    #print(score, A_sort_index)\n",
    "\n",
    "max_score = max(total)\n",
    "for i in range(N):\n",
    "    if total[i] == max_score:\n",
    "        print(0)\n",
    "    else:\n",
    "        dis = max_score-total[i]\n",
    "        not_solved = {j for j, x in enumerate(S[i]) if x == \"x\"}\n",
    "        #print(dis, not_solved)\n",
    "        point = 0\n",
    "        num = 0\n",
    "        while dis > 0:\n",
    "            if A_sort_index[point] in not_solved:\n",
    "                dis -= A[A_sort_index[point]]\n",
    "                num += 1\n",
    "            point += 1\n",
    "        print(num)"
   ]
  },
  {
   "cell_type": "code",
   "execution_count": 17,
   "metadata": {},
   "outputs": [
    {
     "name": "stdout",
     "output_type": "stream",
     "text": [
      "[2001, 1502, 1703]\n",
      "{1, 3}\n"
     ]
    }
   ],
   "source": []
  },
  {
   "cell_type": "code",
   "execution_count": null,
   "metadata": {},
   "outputs": [],
   "source": [
    "N = int(input())\n",
    "S = [None for i in range(N)]\n",
    "C = [None for i in range(N)]\n",
    "for i in range(N):\n",
    "    S[i], C[i] = map(int, input().split())\n",
    "\n",
    "slime_info = dict(zip(S, C))\n",
    "for i in range(N):\n",
    "    if 2*S[i] in slime_info.keys():\n",
    "        slime_info[2*S[i]] += C[i]//2\n",
    "        C[i] = C[i]%2\n",
    "    else:\n",
    "        slime_info[2*S[i]] = C[i]//2\n",
    "        C[i] = C[i]%2\n"
   ]
  }
 ],
 "metadata": {
  "kernelspec": {
   "display_name": "venv",
   "language": "python",
   "name": "python3"
  },
  "language_info": {
   "codemirror_mode": {
    "name": "ipython",
    "version": 3
   },
   "file_extension": ".py",
   "mimetype": "text/x-python",
   "name": "python",
   "nbconvert_exporter": "python",
   "pygments_lexer": "ipython3",
   "version": "3.8.10"
  }
 },
 "nbformat": 4,
 "nbformat_minor": 2
}
