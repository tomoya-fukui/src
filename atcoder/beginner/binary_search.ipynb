{
 "cells": [
  {
   "cell_type": "code",
   "execution_count": null,
   "metadata": {},
   "outputs": [],
   "source": [
    "# めぐる式二分探索\n",
    "def is_ok(mid, key, area):\n",
    "    return area[mid] >= key\n",
    "    \n",
    "def binary_search(key, area):\n",
    "    ng = -1\n",
    "    ok = len(area)\n",
    "    \n",
    "    while abs(ok-ng) > 1:\n",
    "        mid = (ng+ok)//2\n",
    "        \n",
    "        if is_ok(mid, key, area):\n",
    "            ok = mid\n",
    "        else:\n",
    "            ng = mid\n",
    "    return ok"
   ]
  },
  {
   "cell_type": "markdown",
   "metadata": {},
   "source": [
    "[Binary Search 1](https://atcoder.jp/contests/tessoku-book/tasks/tessoku_book_k)"
   ]
  },
  {
   "cell_type": "code",
   "execution_count": null,
   "metadata": {},
   "outputs": [],
   "source": [
    "N, X = map(int, input().split())\n",
    "A = list(map(int, input().split()))\n",
    "\n",
    "ng = -1\n",
    "ok = N\n",
    "\n",
    "while abs(ok-ng) > 1:\n",
    "    mid = (ng+ok)//2\n",
    "    \n",
    "    if A[mid] >= X:\n",
    "        ok = mid\n",
    "    else:\n",
    "        ng = mid\n",
    "        \n",
    "print(ok+1)"
   ]
  },
  {
   "cell_type": "markdown",
   "metadata": {},
   "source": [
    "[Printer](https://atcoder.jp/contests/tessoku-book/tasks/tessoku_book_l)"
   ]
  },
  {
   "cell_type": "code",
   "execution_count": null,
   "metadata": {},
   "outputs": [],
   "source": [
    "N, K = map(int, input().split())\n",
    "A = list(map(int, input().split()))\n",
    "\n",
    "ng = -1\n",
    "ok = 10**9+1\n",
    "\n",
    "def is_ok(mid):\n",
    "    total = 0\n",
    "    for i in range(N):\n",
    "        total += mid//A[i]\n",
    "    return total >= K\n",
    "\n",
    "while abs(ng-ok) > 1:\n",
    "    mid = (ng+ok)//2\n",
    "    \n",
    "    if is_ok(mid):\n",
    "        ok = mid\n",
    "    else:\n",
    "        ng = mid\n",
    "print(ok)"
   ]
  },
  {
   "cell_type": "markdown",
   "metadata": {},
   "source": [
    "[Close Pairs](https://atcoder.jp/contests/tessoku-book/tasks/tessoku_book_m)"
   ]
  },
  {
   "cell_type": "code",
   "execution_count": null,
   "metadata": {},
   "outputs": [],
   "source": [
    "N, K = map(int, input().split())\n",
    "A = list(map(int, input().split()))\n",
    "\n"
   ]
  }
 ],
 "metadata": {
  "language_info": {
   "name": "python"
  }
 },
 "nbformat": 4,
 "nbformat_minor": 2
}
