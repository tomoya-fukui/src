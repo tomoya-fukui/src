{
 "cells": [
  {
   "cell_type": "code",
   "execution_count": null,
   "metadata": {},
   "outputs": [],
   "source": [
    "# めぐる式二分探索\n",
    "def is_ok(mid, key, area):\n",
    "    return area[mid] >= key\n",
    "    \n",
    "def binary_search(key, area):\n",
    "    ng = -1\n",
    "    ok = len(area)\n",
    "    \n",
    "    while abs(ok-ng) > 1:\n",
    "        mid = (ng+ok)//2\n",
    "        \n",
    "        if is_ok(mid, key, area):\n",
    "            ok = mid\n",
    "        else:\n",
    "            ng = mid\n",
    "    return ok"
   ]
  },
  {
   "cell_type": "markdown",
   "metadata": {},
   "source": [
    "[Binary Search 1](https://atcoder.jp/contests/tessoku-book/tasks/tessoku_book_k)"
   ]
  },
  {
   "cell_type": "code",
   "execution_count": null,
   "metadata": {},
   "outputs": [],
   "source": [
    "N, X = map(int, input().split())\n",
    "A = list(map(int, input().split()))\n",
    "\n",
    "ng = -1\n",
    "ok = N\n",
    "\n",
    "while abs(ok-ng) > 1:\n",
    "    mid = (ng+ok)//2\n",
    "    \n",
    "    if A[mid] >= X:\n",
    "        ok = mid\n",
    "    else:\n",
    "        ng = mid\n",
    "        \n",
    "print(ok+1)"
   ]
  },
  {
   "cell_type": "markdown",
   "metadata": {},
   "source": [
    "[Printer](https://atcoder.jp/contests/tessoku-book/tasks/tessoku_book_l)"
   ]
  },
  {
   "cell_type": "code",
   "execution_count": null,
   "metadata": {},
   "outputs": [],
   "source": [
    "N, K = map(int, input().split())\n",
    "A = list(map(int, input().split()))\n",
    "\n",
    "ng = -1\n",
    "ok = 10**9+1\n",
    "\n",
    "def is_ok(mid):\n",
    "    total = 0\n",
    "    for i in range(N):\n",
    "        total += mid//A[i]\n",
    "    return total >= K\n",
    "\n",
    "while abs(ng-ok) > 1:\n",
    "    mid = (ng+ok)//2\n",
    "    \n",
    "    if is_ok(mid):\n",
    "        ok = mid\n",
    "    else:\n",
    "        ng = mid\n",
    "print(ok)"
   ]
  },
  {
   "cell_type": "markdown",
   "metadata": {},
   "source": [
    "[Close Pairs](https://atcoder.jp/contests/tessoku-book/tasks/tessoku_book_m)"
   ]
  },
  {
   "cell_type": "code",
   "execution_count": null,
   "metadata": {},
   "outputs": [],
   "source": [
    "# 二分探索\n",
    "N, K = map(int, input().split())\n",
    "A = list(map(int, input().split()))\n",
    "\n",
    "result = 0\n",
    "for i in range(N):\n",
    "    ok = i\n",
    "    ng = N\n",
    "    while abs(ok-ng) > 1:\n",
    "        mid = (ok+ng)//2\n",
    "        if A[mid] <= A[i]+K:\n",
    "            ok = mid\n",
    "        else:\n",
    "            ng = mid\n",
    "    result += ok-i\n",
    "print(result)"
   ]
  },
  {
   "cell_type": "code",
   "execution_count": null,
   "metadata": {},
   "outputs": [],
   "source": [
    "# しゃくとり法\n",
    "N, K = map(int, input().split())\n",
    "A = list(map(int, input().split()))\n",
    "\n",
    "result = 0\n",
    "p = 0\n",
    "for i in range(N):\n",
    "    while p+1 < N and A[p+1]-A[i] <= K:\n",
    "        p += 1\n",
    "    result += p-i\n",
    "print(result)"
   ]
  },
  {
   "cell_type": "markdown",
   "metadata": {},
   "source": [
    "[Four Boxes](https://atcoder.jp/contests/tessoku-book/tasks/tessoku_book_n)"
   ]
  },
  {
   "cell_type": "code",
   "execution_count": null,
   "metadata": {},
   "outputs": [],
   "source": [
    "N, K = map(int, input().split())\n",
    "A = list(map(int, input().split()))\n",
    "B = list(map(int, input().split()))\n",
    "C = list(map(int, input().split()))\n",
    "D = list(map(int, input().split()))\n",
    "\n",
    "P = []\n",
    "Q = []\n",
    "for i in range(N):\n",
    "    for j in range(N):\n",
    "        P.append(A[i]+B[j])\n",
    "        Q.append(C[i]+D[j])\n",
    "P.sort()\n",
    "Q.sort()\n",
    "def search(P, Q):\n",
    "    for i in range(len(P)):\n",
    "        ng = -1\n",
    "        ok = len(Q)\n",
    "        while abs(ng-ok) > 1:\n",
    "            mid = (ng+ok)//2\n",
    "            if Q[mid] > K-P[i]:\n",
    "                ok = mid\n",
    "            elif Q[mid] == K-P[i]:\n",
    "                print(\"Yes\")\n",
    "                return\n",
    "            else:\n",
    "                ng = mid\n",
    "    print(\"No\")\n",
    "    return\n",
    "search(P, Q)"
   ]
  },
  {
   "cell_type": "markdown",
   "metadata": {},
   "source": [
    "[Compression](https://atcoder.jp/contests/tessoku-book/tasks/tessoku_book_o)"
   ]
  },
  {
   "cell_type": "code",
   "execution_count": null,
   "metadata": {},
   "outputs": [],
   "source": [
    "N = int(input())\n",
    "A = list(map(int, input().split()))\n",
    "\n",
    "B = [None for _ in range(N)]\n",
    "A2 = sorted(set(A))\n",
    "for i in range(N):\n",
    "    ng = -1\n",
    "    ok = len(A2)\n",
    "    while abs(ng-ok) > 1:\n",
    "        mid = (ng+ok)//2\n",
    "        if A2[mid] > A[i]:\n",
    "            ok = mid\n",
    "        elif A2[mid] == A[i]:\n",
    "            B[i] = mid+1\n",
    "            break\n",
    "        else:\n",
    "            ng = mid\n",
    "print(*B)"
   ]
  }
 ],
 "metadata": {
  "kernelspec": {
   "display_name": "venv",
   "language": "python",
   "name": "python3"
  },
  "language_info": {
   "codemirror_mode": {
    "name": "ipython",
    "version": 3
   },
   "file_extension": ".py",
   "mimetype": "text/x-python",
   "name": "python",
   "nbconvert_exporter": "python",
   "pygments_lexer": "ipython3",
   "version": "3.8.10"
  }
 },
 "nbformat": 4,
 "nbformat_minor": 2
}
