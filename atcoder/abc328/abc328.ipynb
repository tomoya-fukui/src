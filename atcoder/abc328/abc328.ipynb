{
 "cells": [
  {
   "cell_type": "code",
   "execution_count": null,
   "metadata": {},
   "outputs": [],
   "source": [
    "N, X = map(int, input().split())\n",
    "S = list(map(int, input().split()))\n",
    "ans = 0\n",
    "for i in range(N):\n",
    "    if S[i] <= X:\n",
    "        ans += S[i]\n",
    "print(ans)"
   ]
  },
  {
   "cell_type": "code",
   "execution_count": null,
   "metadata": {},
   "outputs": [],
   "source": [
    "N = int(input())\n",
    "D = list(map(int, input().split()))\n",
    "ans = 0\n",
    "for i in range(N):\n",
    "    for j in range(1, D[i]+1):\n",
    "        i, j = map(str, [i, j])\n",
    "        replace_i = i.replace(i[0], \"\")\n",
    "        replace_j = j.replace(i[0], \"\")\n",
    "        if len(i) == 0 and len(j) == 0:\n",
    "            ans += 1\n",
    "print(ans)"
   ]
  },
  {
   "cell_type": "code",
   "execution_count": 4,
   "metadata": {},
   "outputs": [],
   "source": [
    "N = 10\n",
    "D = [10, 1, 2, 3, 4, 5, 6, 7, 8, 100]"
   ]
  },
  {
   "cell_type": "code",
   "execution_count": 6,
   "metadata": {},
   "outputs": [
    {
     "name": "stdout",
     "output_type": "stream",
     "text": [
      "1 1\n",
      "2 2\n",
      "3 3\n",
      "4 4\n",
      "5 5\n",
      "6 6\n",
      "7 7\n",
      "8 8\n",
      "9 9\n",
      "9 99\n",
      "10\n"
     ]
    }
   ],
   "source": [
    "N = int(input())\n",
    "D = list(map(int, input().split()))\n",
    "ans = 0\n",
    "for i in range(N):\n",
    "    for j in range(1, D[i]+1):\n",
    "        month = i+1\n",
    "        month, j = map(str, [month, j])\n",
    "        replace_month = month.replace(month[0], \"\")\n",
    "        replace_j = j.replace(month[0], \"\")\n",
    "        if len(replace_month) == 0 and len(replace_j) == 0:\n",
    "            ans += 1\n",
    "            #print(i, j)\n",
    "print(ans)"
   ]
  },
  {
   "cell_type": "code",
   "execution_count": 7,
   "metadata": {},
   "outputs": [],
   "source": [
    "N, Q = 11, 4\n",
    "S = \"mississippi\"\n",
    "l = [3, 4, 4, 7] \n",
    "r = [9, 10, 6, 7]"
   ]
  },
  {
   "cell_type": "code",
   "execution_count": 13,
   "metadata": {},
   "outputs": [
    {
     "name": "stdout",
     "output_type": "stream",
     "text": [
      "2\n",
      "2\n",
      "0\n",
      "0\n"
     ]
    }
   ],
   "source": [
    "N, Q = map(int, input().split())\n",
    "S = input()\n",
    "l = [None for _ in range(Q)]\n",
    "r = [None for _ in range(Q)]\n",
    "for i in range(Q):\n",
    "    l[i], r[i] = map(int, input().split())\n",
    "\n",
    "# 全体の答えを求める\n",
    "sum_list = [None for _ in range(N)]\n",
    "sum_list[0] = 0\n",
    "for i in range(1, N):\n",
    "    if S[i-1] == S[i]:\n",
    "        sum_list[i] = sum_list[i-1]+1\n",
    "    else:\n",
    "        sum_list[i] = sum_list[i-1]\n",
    "#print(sum_list)\n",
    "for i in range(Q):\n",
    "    print(sum_list[r[i]-1]-sum_list[l[i]-1])"
   ]
  },
  {
   "cell_type": "code",
   "execution_count": null,
   "metadata": {},
   "outputs": [],
   "source": [
    "s = input()\n",
    "while True:\n",
    "    s_after = s.replace(\"ABC\", \"\")\n",
    "    if s == s_after:\n",
    "        break\n",
    "    else:\n",
    "        s = s_after\n",
    "print(s)"
   ]
  }
 ],
 "metadata": {
  "kernelspec": {
   "display_name": "venv",
   "language": "python",
   "name": "python3"
  },
  "language_info": {
   "codemirror_mode": {
    "name": "ipython",
    "version": 3
   },
   "file_extension": ".py",
   "mimetype": "text/x-python",
   "name": "python",
   "nbconvert_exporter": "python",
   "pygments_lexer": "ipython3",
   "version": "3.8.10"
  }
 },
 "nbformat": 4,
 "nbformat_minor": 2
}
