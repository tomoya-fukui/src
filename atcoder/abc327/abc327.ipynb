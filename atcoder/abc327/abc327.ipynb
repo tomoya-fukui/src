{
 "cells": [
  {
   "cell_type": "code",
   "execution_count": null,
   "metadata": {},
   "outputs": [],
   "source": [
    "N = int(input())\n",
    "S = input()\n",
    "\n",
    "for i in range(1, N):\n",
    "    if S[i-1] == \"a\" and S[i] == \"b\":\n",
    "        print(\"Yes\")\n",
    "        break\n",
    "    elif S[i-1] == \"b\" and S[i] == \"a\":\n",
    "        print(\"Yes\")\n",
    "        break\n",
    "    elif i == N-1:\n",
    "        print(\"No\")"
   ]
  },
  {
   "cell_type": "code",
   "execution_count": null,
   "metadata": {},
   "outputs": [],
   "source": [
    "B = int(input())\n",
    "\n",
    "for i in range(1, 19):\n",
    "    if i**i == B:\n",
    "        print(i)\n",
    "        break\n",
    "    elif i == 18:\n",
    "        print(-1)"
   ]
  },
  {
   "cell_type": "code",
   "execution_count": 14,
   "metadata": {},
   "outputs": [],
   "source": [
    "A = [[1, 2, 3, 4, 5, 6, 7, 8, 9],\n",
    "[4, 5, 6, 7, 8, 9, 1, 2, 3],\n",
    "[7, 8, 9, 1, 2, 3, 4, 5, 6],\n",
    "[1, 2, 3, 4, 5, 6, 7, 8, 9],\n",
    "[4, 5, 6, 7, 8, 9, 1, 2, 3],\n",
    "[7, 8, 9, 1, 2, 3, 4, 5, 6],\n",
    "[1, 2, 3, 4, 5, 6, 7, 8, 9],\n",
    "[4, 5, 6, 7, 8, 9, 1, 2, 3],\n",
    "[7, 8, 9, 1, 2, 3, 4, 5, 6]]\n"
   ]
  },
  {
   "cell_type": "code",
   "execution_count": 23,
   "metadata": {},
   "outputs": [
    {
     "name": "stdout",
     "output_type": "stream",
     "text": [
      "No\n"
     ]
    }
   ],
   "source": [
    "A = [[None] for _ in range(9)]\n",
    "for i in range(9):\n",
    "    A[i] = list(map(int, input().split()))\n",
    "def row_check(A):\n",
    "    for i in range(9):\n",
    "        for j in range(1, 10):\n",
    "            if j not in A[i]:\n",
    "                return False\n",
    "    return True\n",
    "\n",
    "col_dict = {0:set(), 1:set(), 2:set(),3:set(), 4:set(), 5:set(), 6:set(), 7:set(), 8:set()}\n",
    "def col_check(A):\n",
    "    for i in range(9):\n",
    "        for j in range(9):\n",
    "            #print(i, j)\n",
    "            col_dict[j].add(A[i][j])\n",
    "    for col in col_dict.values():\n",
    "        if len(col) < 9:\n",
    "            return False\n",
    "    return True\n",
    "\n",
    "def mini_check(A):\n",
    "    minis = {1:[], 2:[], 3:[], 4:[], 5:[], 6:[], 7:[], 8:[], 9:[]}\n",
    "    p = 1\n",
    "    for i in range(9):\n",
    "        for j in range(9):\n",
    "            # 1から3\n",
    "            if i < 3 and j < 3:\n",
    "                minis[1].append(A[i][j])\n",
    "            elif i < 3 and j < 6:\n",
    "                minis[2].append(A[i][j])\n",
    "            elif i < 3:\n",
    "                minis[3].append(A[i][j])\n",
    "            # 4から6\n",
    "            elif i < 6 and j < 3:\n",
    "                minis[4].append(A[i][j])\n",
    "            elif i < 6 and j < 6:\n",
    "                minis[5].append(A[i][j])\n",
    "            elif i < 6:\n",
    "                minis[6].append(A[i][j])\n",
    "            # 7から9\n",
    "            if j < 3:\n",
    "                minis[7].append(A[i][j])\n",
    "            elif j < 6:\n",
    "                minis[8].append(A[i][j])\n",
    "            else:\n",
    "                minis[9].append(A[i][j])\n",
    "    #print(minis)\n",
    "    for mini in minis.values():\n",
    "        for k in range(1, 10):\n",
    "            if k not in mini:\n",
    "                return False\n",
    "    return True\n",
    "\n",
    "if row_check(A):\n",
    "    if col_check(A):\n",
    "        if mini_check(A):\n",
    "            print(\"Yes\")\n",
    "        else:\n",
    "            print(\"No\")\n",
    "    else:\n",
    "        print(\"No\")\n",
    "else:\n",
    "    print(\"No\")"
   ]
  },
  {
   "cell_type": "code",
   "execution_count": null,
   "metadata": {},
   "outputs": [],
   "source": [
    "N, M = map(int, input().split())\n",
    "A = list(map(int, input().split()))\n",
    "B = list(map(int, input().split()))\n",
    "X = [0 for i in range(N)]\n",
    "ans = \"No\"\n",
    "for i in range(M):\n",
    "    if A[i] == B[i]:\n",
    "        break\n",
    "    else:\n",
    "        X[A[i]-1] += 1\n",
    "        X[B[i]-1] += 1\n",
    "\n",
    "if X.count(1) >= 2:\n",
    "    ans = \"Yes\"\n",
    "print(ans)"
   ]
  }
 ],
 "metadata": {
  "kernelspec": {
   "display_name": "venv",
   "language": "python",
   "name": "python3"
  },
  "language_info": {
   "codemirror_mode": {
    "name": "ipython",
    "version": 3
   },
   "file_extension": ".py",
   "mimetype": "text/x-python",
   "name": "python",
   "nbconvert_exporter": "python",
   "pygments_lexer": "ipython3",
   "version": "3.8.10"
  }
 },
 "nbformat": 4,
 "nbformat_minor": 2
}
