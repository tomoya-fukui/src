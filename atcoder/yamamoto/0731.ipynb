{
 "cells": [
  {
   "cell_type": "code",
   "execution_count": null,
   "metadata": {},
   "outputs": [],
   "source": [
    "# 入力を受け取る\n",
    "N = int(input())\n",
    "\n",
    "# 2でのローテーション\n",
    "if N%2 == 1:\n",
    "    print(\"Black\")\n",
    "else:\n",
    "    print(\"White\")"
   ]
  },
  {
   "cell_type": "code",
   "execution_count": null,
   "metadata": {},
   "outputs": [],
   "source": [
    "# 入力を受け取る\n",
    "N = int(input())\n",
    "A = [None for i in range(N)]\n",
    "B = [None for i in range(N)]\n",
    "for i in range(N):\n",
    "    A[i], B[i] = map(int, input().split())\n",
    "\n",
    "total = 0\n",
    "# N回の操作を行う\n",
    "for i in range(N):\n",
    "    # 奇数か偶数かで操作が異なる\n",
    "    if (B[i]-A[i]+1)%2 == 0:\n",
    "        total += (A[i]+B[i])*((B[i]-A[i]+1)/2)\n",
    "    else:\n",
    "        total += (A[i]+B[i])*((B[i]-A[i]+1)//2)+((A[i]+B[i])/2)\n",
    "        \n",
    "total = int(total)\n",
    "print(total)"
   ]
  },
  {
   "cell_type": "code",
   "execution_count": null,
   "metadata": {},
   "outputs": [],
   "source": [
    "# 入力を受け取る\n",
    "N = int(input())\n",
    "x = [None for i in range(N)]\n",
    "y = [None for i in range(N)]\n",
    "for i in range(N):\n",
    "    x[i], y[i] = map(int, input().split())\n",
    "\n",
    "# 関数を2つの点から求める\n",
    "for i in range(N):\n",
    "    for j in range(N):\n",
    "        if i != j:\n",
    "            # 傾きを求める\n",
    "            # 公式から関数がわかる　傾き＝aで、（p,q）を通る直線：y=a（x−p）＋q\n",
    "            # y軸に対して平行じゃないとき\n",
    "            if x[i] != x[j]:\n",
    "                a = (y[i]-y[j])/(x[i]-x[j])\n",
    "                z = 0\n",
    "            else:\n",
    "                z = 1\n",
    "            for k in range(N):\n",
    "                if k != i and k != j:\n",
    "                    if z == 0:\n",
    "                        if y[k] == a*(x[k]-x[j])+y[j]:\n",
    "                            ans = \"Yes\"\n",
    "                            break\n",
    "                        else:\n",
    "                            ans = \"No\"\n",
    "                    else:\n",
    "                        if x[k] == x[j]:\n",
    "                            ans = \"Yes\"\n",
    "                            break\n",
    "                        else:\n",
    "                            ans = \"No\"\n",
    "print(ans)              "
   ]
  },
  {
   "cell_type": "code",
   "execution_count": null,
   "metadata": {},
   "outputs": [],
   "source": [
    "# 入力を受け取る\n",
    "N = int(input())\n",
    "x = [None for i in range(N)]\n",
    "y = [None for i in range(N)]\n",
    "for i in range(N):\n",
    "    x[i], y[i] = map(int, input().split())\n",
    "flag = False\n",
    "for i in range(N):\n",
    "    for j in range(N):\n",
    "        for k in range(N):\n",
    "            if i != j and i != k and j != k:\n",
    "                x0, y0 = 0, 0\n",
    "                x1, y1 = x[j]-x[i], y[j]-y[i]\n",
    "                x2, y2 = x[k]-x[i], y[k]-y[i]\n",
    "                if x2*y1 == x1*y2:\n",
    "                    ans = \"Yes\"\n",
    "                    flag = True\n",
    "                    break\n",
    "                else:\n",
    "                    ans = \"No\"\n",
    "        if flag:\n",
    "            break\n",
    "    if flag:\n",
    "        break\n",
    "print(ans)"
   ]
  },
  {
   "cell_type": "code",
   "execution_count": null,
   "metadata": {},
   "outputs": [],
   "source": [
    "import random\n",
    "# 入力を受け取る\n",
    "S = input()\n",
    "\n",
    "if len(S) <= 2:\n",
    "    if int(S)%8 == 0 or int(n[::-1]%8 == 0):\n",
    "        print(\"Yes\")\n",
    "    else:\n",
    "        print(\"No\")\n",
    "    exit()\n",
    "\n",
    "val = random.sample(S, 3)"
   ]
  }
 ],
 "metadata": {
  "kernelspec": {
   "display_name": ".venv",
   "language": "python",
   "name": "python3"
  },
  "language_info": {
   "name": "python",
   "version": "3.8.10"
  },
  "orig_nbformat": 4
 },
 "nbformat": 4,
 "nbformat_minor": 2
}
