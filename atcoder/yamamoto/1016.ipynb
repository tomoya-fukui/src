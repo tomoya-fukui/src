{
 "cells": [
  {
   "cell_type": "code",
   "execution_count": 21,
   "metadata": {},
   "outputs": [
    {
     "name": "stdout",
     "output_type": "stream",
     "text": [
      "1\n",
      "0\n",
      "0\n"
     ]
    }
   ],
   "source": [
    "#N, M = map(int, input().split())\n",
    "#A = list(map(int, input().split()))\n",
    "N, M = 3, 2\n",
    "A = [2, 3]\n",
    "\n",
    "# 各日について、それ以降で初めて花火が上がるまでどれだけかかるか考える\n",
    "for date in range(1, N+1):\n",
    "    for i in range(M):\n",
    "        if date <= A[i]:\n",
    "            print(A[i]-date)\n",
    "            break\n",
    "            "
   ]
  },
  {
   "cell_type": "code",
   "execution_count": 25,
   "metadata": {},
   "outputs": [
    {
     "name": "stdout",
     "output_type": "stream",
     "text": [
      "1\n",
      "0\n",
      "0\n"
     ]
    }
   ],
   "source": [
    "# 高速化 二分探索\n",
    "for date in range(1, N+1):\n",
    "    # 確実に満たす最小インデックス\n",
    "    left = 0\n",
    "    # 確実に満たす最大インデックス\n",
    "    right = M\n",
    "    # インデックスが同じになるまで\n",
    "    while left < right:\n",
    "        mid = (left+right)//2\n",
    "        if A[mid] < date:\n",
    "            # A[0]~A[mid]はdate未満だから調べない\n",
    "            left = mid+1\n",
    "        else:\n",
    "            right = mid\n",
    "    print(A[right]-date)"
   ]
  },
  {
   "cell_type": "code",
   "execution_count": null,
   "metadata": {},
   "outputs": [],
   "source": [
    "N = int(input())\n",
    "cnt = 0\n",
    "for i in range(1, 1000001):\n",
    "    if int(str(i)*2) <= N:\n",
    "        cnt += 1\n",
    "    else:\n",
    "        break\n",
    "print(cnt)"
   ]
  },
  {
   "cell_type": "code",
   "execution_count": 1,
   "metadata": {},
   "outputs": [],
   "source": [
    "N, M = map(int, input().split())\n",
    "A = list(map(int, input().split()))\n",
    "B = list(map(int, input().split()))\n",
    "\n",
    "A.sort()\n",
    "B.sort()\n",
    "ans = float(\"inf\")\n",
    "for i in range(N):\n",
    "    left = 0\n",
    "    right = M\n",
    "    while left < right:\n",
    "        mid = (left+right)//2\n",
    "        ans = min(ans, abs(A[i]-B[mid]))\n",
    "        if A[i] < B[mid]:\n",
    "            right = mid\n",
    "        else:\n",
    "            left = mid+1\n",
    "print(ans)"
   ]
  },
  {
   "cell_type": "code",
   "execution_count": null,
   "metadata": {},
   "outputs": [],
   "source": [
    "n = int(input())\n",
    "left = 0\n",
    "right = 2*10**9\n",
    "while right - left > 1:\n",
    "    mid = (left+right)//2\n",
    "    if mid*(1+mid)//2 <= n+1:\n",
    "        left = mid\n",
    "    else:\n",
    "        right = mid\n",
    "print(1+(n-left))"
   ]
  }
 ],
 "metadata": {
  "kernelspec": {
   "display_name": "venv",
   "language": "python",
   "name": "python3"
  },
  "language_info": {
   "codemirror_mode": {
    "name": "ipython",
    "version": 3
   },
   "file_extension": ".py",
   "mimetype": "text/x-python",
   "name": "python",
   "nbconvert_exporter": "python",
   "pygments_lexer": "ipython3",
   "version": "3.8.10"
  }
 },
 "nbformat": 4,
 "nbformat_minor": 2
}
