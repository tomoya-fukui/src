{
 "cells": [
  {
   "cell_type": "code",
   "execution_count": null,
   "metadata": {},
   "outputs": [],
   "source": [
    "# 入力を受け取る\n",
    "N = 3\n",
    "xy = [map(int, input().split()) for _ in range(N)]\n",
    "x, y = [list(i) for i in zip(*xy)]\n",
    "\n",
    "# 計算する\n",
    "# それぞれ2回ずつ座標として出るはず\n",
    "count_x = {x[i]: 0 for i in range(len(x))}\n",
    "count_y = {y[i]: 0 for i in range(len(x))}\n",
    "for i in range(len(x)):\n",
    "    count_x[x[i]] += 1\n",
    "    count_y[y[i]] += 1\n",
    "    \n",
    "# 1回のものを出力する\n",
    "for x in count_x.keys():\n",
    "    if count_x[x] == 1:\n",
    "        ans_x = x\n",
    "for y in count_y.keys():\n",
    "    if count_y[y] == 1:\n",
    "        ans_y = y\n",
    "print(ans_x, ans_y)"
   ]
  },
  {
   "cell_type": "code",
   "execution_count": null,
   "metadata": {},
   "outputs": [],
   "source": [
    "# 入力を受け取る\n",
    "A, B = map(int, input().split())\n",
    "\n",
    "# 計算する\n",
    "# x方向にA行ったらy方向にB行く、割合で考えるといける？\n",
    "total = A+B\n",
    "rate_x = A/total\n",
    "rate_y = B/total\n",
    "x = 1*rate_x\n",
    "y = 1*rate_y\n",
    "print(x, y)"
   ]
  },
  {
   "cell_type": "code",
   "execution_count": null,
   "metadata": {},
   "outputs": [],
   "source": [
    "# sin, cos\n",
    "A, B = map(int, input().split())\n",
    "\n",
    "dis = ((A**2+B**2)**(1/2))\n",
    "cos = A/dis\n",
    "sin = B/dis\n",
    "print(cos, sin)"
   ]
  },
  {
   "cell_type": "code",
   "execution_count": null,
   "metadata": {},
   "outputs": [],
   "source": [
    "# 入力を受け取る\n",
    "N, K, X = map(int, input().split())\n",
    "A = list(map(int, input().split()))\n",
    "\n",
    "# 値下げなしの状態\n",
    "ans = 0\n",
    "for i in range(N):\n",
    "    ans += A[i]\n",
    "    \n",
    "#  X円ちゃんと安くなる値下げを行う回数を求める\n",
    "m = 0\n",
    "for i in range(N):\n",
    "    m += A[i]//X\n",
    "m = min(m, K)\n",
    "\n",
    "# 値引きする、クーポン枚数の計算をする\n",
    "ans -= m*X\n",
    "K -= m\n",
    "\n",
    "# 各商品の値段をクーポン適用後の値段に変える、クーポンでマックス引いているからクーポン額以下、余りで考えられる\n",
    "for i in range(N):\n",
    "    A[i] %= X\n",
    "    \n",
    "# 0円にする優先対象を考える\n",
    "A = sorted(A, reverse=True)\n",
    "\n",
    "# 0円にしていく\n",
    "for i in range(N):\n",
    "    if K == 0:\n",
    "        break\n",
    "    else:\n",
    "        ans -= A[i]\n",
    "        K -= 1\n",
    "print(ans)"
   ]
  },
  {
   "cell_type": "code",
   "execution_count": 7,
   "metadata": {},
   "outputs": [],
   "source": [
    "def f(a,b):\n",
    "    return a**3+a**2*b+a*b**2+b**3"
   ]
  },
  {
   "cell_type": "code",
   "execution_count": 8,
   "metadata": {},
   "outputs": [
    {
     "data": {
      "text/plain": [
       "1000000000000000000000"
      ]
     },
     "execution_count": 8,
     "metadata": {},
     "output_type": "execute_result"
    }
   ],
   "source": [
    "f(10**7,0)"
   ]
  },
  {
   "cell_type": "code",
   "execution_count": null,
   "metadata": {},
   "outputs": [],
   "source": [
    "# 入力を受け取る\n",
    "N = int(input())\n",
    "\n",
    "# 関数を定義する\n",
    "def f(a,b):\n",
    "    return a**3+a**2*b+a*b**2+b**3\n",
    "\n",
    "# 未知数を初期化する\n",
    "j = 10**6\n",
    "X = float(\"inf\")\n",
    "\n",
    "# 対象となる解領域に対してXを計算する\n",
    "for i in range(10**6):\n",
    "    while f(i, j) >= N and j >= 0:\n",
    "        X = min(X, f(i,j))\n",
    "        j -= 1\n",
    "print(X)"
   ]
  },
  {
   "cell_type": "code",
   "execution_count": 9,
   "metadata": {},
   "outputs": [
    {
     "name": "stdout",
     "output_type": "stream",
     "text": [
      "1000000000000000000\n"
     ]
    }
   ],
   "source": [
    "N = int(input())\n",
    "ans = float('inf')\n",
    "\n",
    "for a in range(1000000):\n",
    "    ng, ok = -1, 1000001\n",
    "    while ng + 1 != ok:\n",
    "        md = (ng + ok) // 2\n",
    "        if N <= f(a, md):\n",
    "            ok = md\n",
    "        else:\n",
    "            ng = md\n",
    "    ans = min(ans, f(a, ok))\n",
    "print(ans)"
   ]
  },
  {
   "cell_type": "code",
   "execution_count": null,
   "metadata": {},
   "outputs": [],
   "source": []
  }
 ],
 "metadata": {
  "kernelspec": {
   "display_name": ".venv",
   "language": "python",
   "name": "python3"
  },
  "language_info": {
   "codemirror_mode": {
    "name": "ipython",
    "version": 3
   },
   "file_extension": ".py",
   "mimetype": "text/x-python",
   "name": "python",
   "nbconvert_exporter": "python",
   "pygments_lexer": "ipython3",
   "version": "3.8.10"
  },
  "orig_nbformat": 4
 },
 "nbformat": 4,
 "nbformat_minor": 2
}
